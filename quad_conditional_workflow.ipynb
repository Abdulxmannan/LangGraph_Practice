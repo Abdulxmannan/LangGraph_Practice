{
 "cells": [
  {
   "cell_type": "code",
   "execution_count": 1,
   "id": "c0120e53",
   "metadata": {},
   "outputs": [],
   "source": [
    "from langgraph.graph import StateGraph, START, END\n",
    "from typing import TypedDict, Literal"
   ]
  },
  {
   "cell_type": "code",
   "execution_count": 2,
   "id": "07865cd2",
   "metadata": {},
   "outputs": [],
   "source": [
    "class quadState(TypedDict):\n",
    "    a: int\n",
    "    b: int\n",
    "    c: int\n",
    "\n",
    "    equation: str\n",
    "    discriminant: float\n",
    "    result : str"
   ]
  },
  {
   "cell_type": "code",
   "execution_count": 3,
   "id": "b6dd75ed",
   "metadata": {},
   "outputs": [],
   "source": [
    "def show_equation(state: quadState):\n",
    "\n",
    "    equation = f'{state[\"a\"]}x2{state[\"b\"]}x{state[\"c\"]}'\n",
    "\n",
    "    return {'equation':equation}\n",
    "\n",
    "def calculate_discriminant(state: quadState):\n",
    "\n",
    "    discriminant = state[\"b\"]**2 - (4*state[\"a\"]*state[\"c\"])\n",
    "\n",
    "    return {'discriminant': discriminant}\n",
    "\n",
    "def real_roots(state: quadState):\n",
    "\n",
    "    root1 = (-state[\"b\"] + state[\"discriminant\"]**0.5)/(2*state[\"a\"])\n",
    "    root2 = (-state[\"b\"] - state[\"discriminant\"]**0.5)/(2*state[\"a\"])\n",
    "\n",
    "    result = f'The roots are {root1} and {root2}'\n",
    "\n",
    "    return {'result': result}\n",
    "\n",
    "def repeated_roots(state: quadState):\n",
    "\n",
    "    root = (-state[\"b\"])/(2*state[\"a\"])\n",
    "\n",
    "    result = f'Only repeating root is {root}'\n",
    "\n",
    "    return {'result': result}\n",
    "\n",
    "def no_real_roots(state: quadState):\n",
    "\n",
    "    result = f'No real roots'\n",
    "\n",
    "    return {'result': result}\n",
    "\n",
    "def check_condition(state: quadState) -> Literal[\"real_roots\", \"repeated_roots\", \"no_real_roots\"]:\n",
    "\n",
    "    if state['discriminant'] > 0:\n",
    "        return \"real_roots\"\n",
    "    elif state['discriminant'] == 0:\n",
    "        return \"repeated_roots\"\n",
    "    else:\n",
    "        return \"no_real_roots\"\n"
   ]
  },
  {
   "cell_type": "code",
   "execution_count": 4,
   "id": "776c338c",
   "metadata": {},
   "outputs": [],
   "source": [
    "\n",
    "graph= StateGraph(quadState)\n",
    "\n",
    "graph.add_node(\"show_equation\", show_equation)\n",
    "graph.add_node(\"calculate_discriminant\", calculate_discriminant)\n",
    "graph.add_node('real_roots', real_roots)\n",
    "graph.add_node('repeated_roots', repeated_roots)\n",
    "graph.add_node('no_real_roots', no_real_roots)\n",
    "\n",
    "graph.add_edge(START, 'show_equation')\n",
    "graph.add_edge('show_equation', 'calculate_discriminant')\n",
    "\n",
    "graph.add_conditional_edges('calculate_discriminant', check_condition)\n",
    "graph.add_edge('real_roots', END)\n",
    "graph.add_edge('repeated_roots', END)\n",
    "graph.add_edge('no_real_roots', END)\n",
    "\n",
    "workflow = graph.compile()"
   ]
  },
  {
   "cell_type": "code",
   "execution_count": 5,
   "id": "f6546c67",
   "metadata": {},
   "outputs": [
    {
     "data": {
      "text/plain": [
       "CompiledStateGraph(nodes={'__start__': PregelNode(config={'tags': ['langsmith:hidden'], 'metadata': {}, 'configurable': {}}, channels=['__start__'], triggers=['__start__'], writers=[ChannelWrite<a,b,c,equation,discriminant,result>(recurse=True, writes=[ChannelWriteEntry(channel='a', value=<object object at 0x000001FF99AC8FA0>, skip_none=False, mapper=_get_state_key(recurse=False)), ChannelWriteEntry(channel='b', value=<object object at 0x000001FF99AC8FA0>, skip_none=False, mapper=_get_state_key(recurse=False)), ChannelWriteEntry(channel='c', value=<object object at 0x000001FF99AC8FA0>, skip_none=False, mapper=_get_state_key(recurse=False)), ChannelWriteEntry(channel='equation', value=<object object at 0x000001FF99AC8FA0>, skip_none=False, mapper=_get_state_key(recurse=False)), ChannelWriteEntry(channel='discriminant', value=<object object at 0x000001FF99AC8FA0>, skip_none=False, mapper=_get_state_key(recurse=False)), ChannelWriteEntry(channel='result', value=<object object at 0x000001FF99AC8FA0>, skip_none=False, mapper=_get_state_key(recurse=False))], require_at_least_one_of=['a', 'b', 'c', 'equation', 'discriminant', 'result']), ChannelWrite<start:show_equation>(recurse=True, writes=[ChannelWriteEntry(channel='start:show_equation', value='__start__', skip_none=False, mapper=None)], require_at_least_one_of=None)]), 'show_equation': PregelNode(config={'tags': [], 'metadata': {}, 'configurable': {}}, channels={'a': 'a', 'b': 'b', 'c': 'c', 'equation': 'equation', 'discriminant': 'discriminant', 'result': 'result'}, triggers=['start:show_equation'], mapper=functools.partial(<function _coerce_state at 0x000001FF9A869300>, <class '__main__.quadState'>), writers=[ChannelWrite<show_equation,a,b,c,equation,discriminant,result>(recurse=True, writes=[ChannelWriteEntry(channel='show_equation', value='show_equation', skip_none=False, mapper=None), ChannelWriteEntry(channel='a', value=<object object at 0x000001FF99AC8FA0>, skip_none=False, mapper=_get_state_key(recurse=False)), ChannelWriteEntry(channel='b', value=<object object at 0x000001FF99AC8FA0>, skip_none=False, mapper=_get_state_key(recurse=False)), ChannelWriteEntry(channel='c', value=<object object at 0x000001FF99AC8FA0>, skip_none=False, mapper=_get_state_key(recurse=False)), ChannelWriteEntry(channel='equation', value=<object object at 0x000001FF99AC8FA0>, skip_none=False, mapper=_get_state_key(recurse=False)), ChannelWriteEntry(channel='discriminant', value=<object object at 0x000001FF99AC8FA0>, skip_none=False, mapper=_get_state_key(recurse=False)), ChannelWriteEntry(channel='result', value=<object object at 0x000001FF99AC8FA0>, skip_none=False, mapper=_get_state_key(recurse=False))], require_at_least_one_of=['a', 'b', 'c', 'equation', 'discriminant', 'result'])]), 'calculate_discriminant': PregelNode(config={'tags': [], 'metadata': {}, 'configurable': {}}, channels={'a': 'a', 'b': 'b', 'c': 'c', 'equation': 'equation', 'discriminant': 'discriminant', 'result': 'result'}, triggers=['show_equation'], mapper=functools.partial(<function _coerce_state at 0x000001FF9A869300>, <class '__main__.quadState'>), writers=[ChannelWrite<calculate_discriminant,a,b,c,equation,discriminant,result>(recurse=True, writes=[ChannelWriteEntry(channel='calculate_discriminant', value='calculate_discriminant', skip_none=False, mapper=None), ChannelWriteEntry(channel='a', value=<object object at 0x000001FF99AC8FA0>, skip_none=False, mapper=_get_state_key(recurse=False)), ChannelWriteEntry(channel='b', value=<object object at 0x000001FF99AC8FA0>, skip_none=False, mapper=_get_state_key(recurse=False)), ChannelWriteEntry(channel='c', value=<object object at 0x000001FF99AC8FA0>, skip_none=False, mapper=_get_state_key(recurse=False)), ChannelWriteEntry(channel='equation', value=<object object at 0x000001FF99AC8FA0>, skip_none=False, mapper=_get_state_key(recurse=False)), ChannelWriteEntry(channel='discriminant', value=<object object at 0x000001FF99AC8FA0>, skip_none=False, mapper=_get_state_key(recurse=False)), ChannelWriteEntry(channel='result', value=<object object at 0x000001FF99AC8FA0>, skip_none=False, mapper=_get_state_key(recurse=False))], require_at_least_one_of=['a', 'b', 'c', 'equation', 'discriminant', 'result']), _route(recurse=True, _is_channel_writer=True)]), 'real_roots': PregelNode(config={'tags': [], 'metadata': {}, 'configurable': {}}, channels={'a': 'a', 'b': 'b', 'c': 'c', 'equation': 'equation', 'discriminant': 'discriminant', 'result': 'result'}, triggers=['branch:calculate_discriminant:check_condition:real_roots'], mapper=functools.partial(<function _coerce_state at 0x000001FF9A869300>, <class '__main__.quadState'>), writers=[ChannelWrite<real_roots,a,b,c,equation,discriminant,result>(recurse=True, writes=[ChannelWriteEntry(channel='real_roots', value='real_roots', skip_none=False, mapper=None), ChannelWriteEntry(channel='a', value=<object object at 0x000001FF99AC8FA0>, skip_none=False, mapper=_get_state_key(recurse=False)), ChannelWriteEntry(channel='b', value=<object object at 0x000001FF99AC8FA0>, skip_none=False, mapper=_get_state_key(recurse=False)), ChannelWriteEntry(channel='c', value=<object object at 0x000001FF99AC8FA0>, skip_none=False, mapper=_get_state_key(recurse=False)), ChannelWriteEntry(channel='equation', value=<object object at 0x000001FF99AC8FA0>, skip_none=False, mapper=_get_state_key(recurse=False)), ChannelWriteEntry(channel='discriminant', value=<object object at 0x000001FF99AC8FA0>, skip_none=False, mapper=_get_state_key(recurse=False)), ChannelWriteEntry(channel='result', value=<object object at 0x000001FF99AC8FA0>, skip_none=False, mapper=_get_state_key(recurse=False))], require_at_least_one_of=['a', 'b', 'c', 'equation', 'discriminant', 'result'])]), 'repeated_roots': PregelNode(config={'tags': [], 'metadata': {}, 'configurable': {}}, channels={'a': 'a', 'b': 'b', 'c': 'c', 'equation': 'equation', 'discriminant': 'discriminant', 'result': 'result'}, triggers=['branch:calculate_discriminant:check_condition:repeated_roots'], mapper=functools.partial(<function _coerce_state at 0x000001FF9A869300>, <class '__main__.quadState'>), writers=[ChannelWrite<repeated_roots,a,b,c,equation,discriminant,result>(recurse=True, writes=[ChannelWriteEntry(channel='repeated_roots', value='repeated_roots', skip_none=False, mapper=None), ChannelWriteEntry(channel='a', value=<object object at 0x000001FF99AC8FA0>, skip_none=False, mapper=_get_state_key(recurse=False)), ChannelWriteEntry(channel='b', value=<object object at 0x000001FF99AC8FA0>, skip_none=False, mapper=_get_state_key(recurse=False)), ChannelWriteEntry(channel='c', value=<object object at 0x000001FF99AC8FA0>, skip_none=False, mapper=_get_state_key(recurse=False)), ChannelWriteEntry(channel='equation', value=<object object at 0x000001FF99AC8FA0>, skip_none=False, mapper=_get_state_key(recurse=False)), ChannelWriteEntry(channel='discriminant', value=<object object at 0x000001FF99AC8FA0>, skip_none=False, mapper=_get_state_key(recurse=False)), ChannelWriteEntry(channel='result', value=<object object at 0x000001FF99AC8FA0>, skip_none=False, mapper=_get_state_key(recurse=False))], require_at_least_one_of=['a', 'b', 'c', 'equation', 'discriminant', 'result'])]), 'no_real_roots': PregelNode(config={'tags': [], 'metadata': {}, 'configurable': {}}, channels={'a': 'a', 'b': 'b', 'c': 'c', 'equation': 'equation', 'discriminant': 'discriminant', 'result': 'result'}, triggers=['branch:calculate_discriminant:check_condition:no_real_roots'], mapper=functools.partial(<function _coerce_state at 0x000001FF9A869300>, <class '__main__.quadState'>), writers=[ChannelWrite<no_real_roots,a,b,c,equation,discriminant,result>(recurse=True, writes=[ChannelWriteEntry(channel='no_real_roots', value='no_real_roots', skip_none=False, mapper=None), ChannelWriteEntry(channel='a', value=<object object at 0x000001FF99AC8FA0>, skip_none=False, mapper=_get_state_key(recurse=False)), ChannelWriteEntry(channel='b', value=<object object at 0x000001FF99AC8FA0>, skip_none=False, mapper=_get_state_key(recurse=False)), ChannelWriteEntry(channel='c', value=<object object at 0x000001FF99AC8FA0>, skip_none=False, mapper=_get_state_key(recurse=False)), ChannelWriteEntry(channel='equation', value=<object object at 0x000001FF99AC8FA0>, skip_none=False, mapper=_get_state_key(recurse=False)), ChannelWriteEntry(channel='discriminant', value=<object object at 0x000001FF99AC8FA0>, skip_none=False, mapper=_get_state_key(recurse=False)), ChannelWriteEntry(channel='result', value=<object object at 0x000001FF99AC8FA0>, skip_none=False, mapper=_get_state_key(recurse=False))], require_at_least_one_of=['a', 'b', 'c', 'equation', 'discriminant', 'result'])])}, channels={'a': <langgraph.channels.last_value.LastValue object at 0x000001FF9949B920>, 'b': <langgraph.channels.last_value.LastValue object at 0x000001FF9A822C00>, 'c': <langgraph.channels.last_value.LastValue object at 0x000001FF9A62C500>, 'equation': <langgraph.channels.last_value.LastValue object at 0x000001FF9946A570>, 'discriminant': <langgraph.channels.last_value.LastValue object at 0x000001FF9946B2C0>, 'result': <langgraph.channels.last_value.LastValue object at 0x000001FF9946B0E0>, '__start__': <langgraph.channels.ephemeral_value.EphemeralValue object at 0x000001FF9A83F7A0>, 'show_equation': <langgraph.channels.ephemeral_value.EphemeralValue object at 0x000001FF9A8659D0>, 'calculate_discriminant': <langgraph.channels.ephemeral_value.EphemeralValue object at 0x000001FF9A866060>, 'real_roots': <langgraph.channels.ephemeral_value.EphemeralValue object at 0x000001FF9A866360>, 'repeated_roots': <langgraph.channels.ephemeral_value.EphemeralValue object at 0x000001FF9A866570>, 'no_real_roots': <langgraph.channels.ephemeral_value.EphemeralValue object at 0x000001FF9A866750>, 'start:show_equation': <langgraph.channels.ephemeral_value.EphemeralValue object at 0x000001FF9A866930>, 'branch:calculate_discriminant:check_condition:real_roots': <langgraph.channels.ephemeral_value.EphemeralValue object at 0x000001FF9A866FC0>, 'branch:calculate_discriminant:check_condition:repeated_roots': <langgraph.channels.ephemeral_value.EphemeralValue object at 0x000001FF9A866F00>, 'branch:calculate_discriminant:check_condition:no_real_roots': <langgraph.channels.ephemeral_value.EphemeralValue object at 0x000001FF9A866420>}, auto_validate=False, stream_mode='updates', output_channels=['a', 'b', 'c', 'equation', 'discriminant', 'result'], stream_channels=['a', 'b', 'c', 'equation', 'discriminant', 'result'], input_channels='__start__', builder=<langgraph.graph.state.StateGraph object at 0x000001FF9971A360>)"
      ]
     },
     "execution_count": 5,
     "metadata": {},
     "output_type": "execute_result"
    }
   ],
   "source": [
    "workflow"
   ]
  },
  {
   "cell_type": "code",
   "execution_count": 6,
   "id": "4cc597ac",
   "metadata": {},
   "outputs": [
    {
     "data": {
      "text/plain": [
       "{'a': 2,\n",
       " 'b': 4,\n",
       " 'c': 2,\n",
       " 'equation': '2x24x2',\n",
       " 'discriminant': 0,\n",
       " 'result': 'Only repeating root is -1.0'}"
      ]
     },
     "execution_count": 6,
     "metadata": {},
     "output_type": "execute_result"
    }
   ],
   "source": [
    "initial_state = {\n",
    "    'a': 2, \n",
    "    'b': 4,\n",
    "    'c': 2\n",
    "}\n",
    "\n",
    "workflow.invoke(initial_state)"
   ]
  }
 ],
 "metadata": {
  "kernelspec": {
   "display_name": "venv",
   "language": "python",
   "name": "python3"
  },
  "language_info": {
   "codemirror_mode": {
    "name": "ipython",
    "version": 3
   },
   "file_extension": ".py",
   "mimetype": "text/x-python",
   "name": "python",
   "nbconvert_exporter": "python",
   "pygments_lexer": "ipython3",
   "version": "3.12.10"
  }
 },
 "nbformat": 4,
 "nbformat_minor": 5
}
