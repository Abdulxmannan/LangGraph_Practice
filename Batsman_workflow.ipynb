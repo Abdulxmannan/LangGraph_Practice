{
 "cells": [
  {
   "cell_type": "code",
   "execution_count": 18,
   "id": "86701555",
   "metadata": {},
   "outputs": [],
   "source": [
    "from langgraph.graph import StateGraph, START, END\n",
    "from typing import TypedDict"
   ]
  },
  {
   "cell_type": "code",
   "execution_count": 28,
   "id": "d6ac902f",
   "metadata": {},
   "outputs": [],
   "source": [
    "class BatsmanState(TypedDict):\n",
    "    runs: int\n",
    "    balls: int\n",
    "    fours: int\n",
    "    sixes: int\n",
    "\n",
    "    sr: float\n",
    "    bpb : float\n",
    "    boundary_percent : float\n",
    "    summary: str"
   ]
  },
  {
   "cell_type": "code",
   "execution_count": 29,
   "id": "81e573b9",
   "metadata": {},
   "outputs": [],
   "source": [
    "def calculate_sr(state: BatsmanState):\n",
    "   sr = (state['runs']/state['balls'])*100\n",
    "   return {'sr': sr}\n"
   ]
  },
  {
   "cell_type": "code",
   "execution_count": 30,
   "id": "73572507",
   "metadata": {},
   "outputs": [],
   "source": [
    "def calculate_bdb(state: BatsmanState):\n",
    "    bpb = (state['fours']*4 + state['sixes']*6)/state['balls']*100\n",
    "    return {'bpb': bpb}"
   ]
  },
  {
   "cell_type": "code",
   "execution_count": 31,
   "id": "ecdbe331",
   "metadata": {},
   "outputs": [],
   "source": [
    "def calculate_boundary_percent(state: BatsmanState):\n",
    "    boundary_percent = (((state['fours'] * 4) + (state['sixes'] * 6))/state['runs'])*100\n",
    "    return {'boundary_percent': boundary_percent}"
   ]
  },
  {
   "cell_type": "code",
   "execution_count": 33,
   "id": "755f9201",
   "metadata": {},
   "outputs": [],
   "source": [
    "def summary(state: BatsmanState):\n",
    "    summary_bt = f\"\"\"\n",
    "Strike Rate - {state['sr']} \\n\n",
    "Balls per boundary - {state['bpb']} \\n\n",
    "Boundary percent - {state['boundary_percent']}\n",
    "\"\"\"\n",
    "    return {'summary': summary_bt}"
   ]
  },
  {
   "cell_type": "code",
   "execution_count": 34,
   "id": "debe8947",
   "metadata": {},
   "outputs": [],
   "source": [
    "graph = StateGraph(BatsmanState)\n",
    "\n",
    "graph.add_node(\"calculate_sr\", calculate_sr)\n",
    "graph.add_node(\"calculate_bdb\", calculate_bdb)\n",
    "graph.add_node(\"calculate_boundary_percent\", calculate_boundary_percent) \n",
    "graph.add_node(\"summary\", summary)\n",
    "\n",
    "graph.add_edge(START, \"calculate_sr\")\n",
    "graph.add_edge(START, \"calculate_bdb\")\n",
    "graph.add_edge(START, \"calculate_boundary_percent\")\n",
    "graph.add_edge(\"calculate_sr\", \"summary\")\n",
    "graph.add_edge(\"calculate_bdb\", \"summary\")\n",
    "graph.add_edge(\"calculate_boundary_percent\", \"summary\")\n",
    "graph.add_edge(\"summary\", END)\n",
    "\n",
    "workflow = graph.compile()"
   ]
  },
  {
   "cell_type": "code",
   "execution_count": 35,
   "id": "a85d69cc",
   "metadata": {},
   "outputs": [
    {
     "data": {
      "image/png": "[encoded data removed]",
      "text/plain": [
       "<langgraph.graph.state.CompiledStateGraph object at 0x000001FAA333E7E0>"
      ]
     },
     "execution_count": 35,
     "metadata": {},
     "output_type": "execute_result"
    }
   ],
   "source": [
    "workflow"
   ]
  },
  {
   "cell_type": "code",
   "execution_count": 36,
   "id": "c3534f83",
   "metadata": {},
   "outputs": [
    {
     "data": {
      "text/plain": [
       "{'runs': 100,\n",
       " 'balls': 50,\n",
       " 'fours': 6,\n",
       " 'sixes': 4,\n",
       " 'sr': 200.0,\n",
       " 'bpb': 96.0,\n",
       " 'boundary_percent': 48.0,\n",
       " 'summary': '\\nStrike Rate - 200.0 \\n\\nBalls per boundary - 96.0 \\n\\nBoundary percent - 48.0\\n'}"
      ]
     },
     "execution_count": 36,
     "metadata": {},
     "output_type": "execute_result"
    }
   ],
   "source": [
    "intial_state = {\n",
    "    'runs': 100,\n",
    "    'balls': 50,\n",
    "    'fours': 6,\n",
    "    'sixes': 4\n",
    "}\n",
    "\n",
    "workflow.invoke(intial_state)"
   ]
  }
 ],
 "metadata": {
  "kernelspec": {
   "display_name": "venv",
   "language": "python",
   "name": "python3"
  },
  "language_info": {
   "codemirror_mode": {
    "name": "ipython",
    "version": 3
   },
   "file_extension": ".py",
   "mimetype": "text/x-python",
   "name": "python",
   "nbconvert_exporter": "python",
   "pygments_lexer": "ipython3",
   "version": "3.12.10"
  }
 },
 "nbformat": 4,
 "nbformat_minor": 5
}
