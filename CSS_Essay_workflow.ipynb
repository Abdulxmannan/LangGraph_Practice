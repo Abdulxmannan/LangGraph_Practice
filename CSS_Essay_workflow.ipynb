{
 "cells": [
  {
   "cell_type": "code",
   "execution_count": 51,
   "id": "89d56c83",
   "metadata": {},
   "outputs": [],
   "source": [
    "from langgraph.graph import StateGraph, START, END\n",
    "from langchain_groq import ChatGroq\n",
    "from dotenv import load_dotenv\n",
    "from typing import TypedDict, Annotated\n",
    "from pydantic import BaseModel, Field\n",
    "import operator"
   ]
  },
  {
   "cell_type": "code",
   "execution_count": 52,
   "id": "737c1301",
   "metadata": {},
   "outputs": [
    {
     "data": {
      "text/plain": [
       "True"
      ]
     },
     "execution_count": 52,
     "metadata": {},
     "output_type": "execute_result"
    }
   ],
   "source": [
    "load_dotenv()"
   ]
  },
  {
   "cell_type": "code",
   "execution_count": 53,
   "id": "a0287a6d",
   "metadata": {},
   "outputs": [],
   "source": [
    "model = ChatGroq(model=\"openai/gpt-oss-20b\")"
   ]
  },
  {
   "cell_type": "code",
   "execution_count": 54,
   "id": "44513737",
   "metadata": {},
   "outputs": [],
   "source": [
    "class EvaluationSchema(BaseModel):\n",
    "\n",
    "    feedback: str = Field(description='Detailed feedbackfor the essay')\n",
    "    score: int = Field(description='Score out of 10', ge=0, le=10)"
   ]
  },
  {
   "cell_type": "code",
   "execution_count": 55,
   "id": "72b33d59",
   "metadata": {},
   "outputs": [],
   "source": [
    "structured_model = model.with_structured_output(EvaluationSchema)"
   ]
  },
  {
   "cell_type": "code",
   "execution_count": 56,
   "id": "bf974a0c",
   "metadata": {},
   "outputs": [],
   "source": [
    "essay = \"\"\"India in the Age of AI\n",
    "As the world enters a transformative era defined by artificial intelligence (AI), India stands at a critical juncture — one where it can either emerge as a global leader in AI innovation or risk falling behind in the technology race. The age of AI brings with it immense promise as well as unprecedented challenges, and how India navigates this landscape will shape its socio-economic and geopolitical future.\n",
    "\n",
    "India's strengths in the AI domain are rooted in its vast pool of skilled engineers, a thriving IT industry, and a growing startup ecosystem. With over 5 million STEM graduates annually and a burgeoning base of AI researchers, India possesses the intellectual capital required to build cutting-edge AI systems. Institutions like IITs, IIITs, and IISc have begun fostering AI research, while private players such as TCS, Infosys, and Wipro are integrating AI into their global services. In 2020, the government launched the National AI Strategy (AI for All) with a focus on inclusive growth, aiming to leverage AI in healthcare, agriculture, education, and smart mobility.\n",
    "\n",
    "One of the most promising applications of AI in India lies in agriculture, where predictive analytics can guide farmers on optimal sowing times, weather forecasts, and pest control. In healthcare, AI-powered diagnostics can help address India’s doctor-patient ratio crisis, particularly in rural areas. Educational platforms are increasingly using AI to personalize learning paths, while smart governance tools are helping improve public service delivery and fraud detection.\n",
    "\n",
    "However, the path to AI-led growth is riddled with challenges. Chief among them is the digital divide. While metropolitan cities may embrace AI-driven solutions, rural India continues to struggle with basic internet access and digital literacy. The risk of job displacement due to automation also looms large, especially for low-skilled workers. Without effective skilling and re-skilling programs, AI could exacerbate existing socio-economic inequalities.\n",
    "\n",
    "Another pressing concern is data privacy and ethics. As AI systems rely heavily on vast datasets, ensuring that personal data is used transparently and responsibly becomes vital. India is still shaping its data protection laws, and in the absence of a strong regulatory framework, AI systems may risk misuse or bias.\n",
    "\n",
    "To harness AI responsibly, India must adopt a multi-stakeholder approach involving the government, academia, industry, and civil society. Policies should promote open datasets, encourage responsible innovation, and ensure ethical AI practices. There is also a need for international collaboration, particularly with countries leading in AI research, to gain strategic advantage and ensure interoperability in global systems.\n",
    "\n",
    "India’s demographic dividend, when paired with responsible AI adoption, can unlock massive economic growth, improve governance, and uplift marginalized communities. But this vision will only materialize if AI is seen not merely as a tool for automation, but as an enabler of human-centered development.\n",
    "\n",
    "In conclusion, India in the age of AI is a story in the making — one of opportunity, responsibility, and transformation. The decisions we make today will not just determine India’s AI trajectory, but also its future as an inclusive, equitable, and innovation-driven society.\"\"\""
   ]
  },
  {
   "cell_type": "code",
   "execution_count": 57,
   "id": "4e0cde61",
   "metadata": {},
   "outputs": [
    {
     "data": {
      "text/plain": [
       "'The essay is generally well‑written, with clear structure, logical flow, and a strong command of English. The introduction sets the context and thesis, each paragraph focuses on a distinct aspect of AI in India, and the conclusion ties the ideas together. The vocabulary is appropriate for an analytical essay, and the writer uses varied sentence structures to keep the reader engaged.\\n\\nStrengths:\\n- Cohesive organization: problem‑solution format with a clear progression.\\n- Adequate use of evidence (statistical data, examples of institutions and companies).\\n- Good balance between optimism and caution.\\n- Formal tone and consistent use of third‑person perspective.\\n\\nAreas for improvement:\\n- Some sentences are long and could be split for better readability (e.g., the paragraph about digital divide and job displacement).\\n- Occasional repetition of phrases like \"AI\" or \"India\" could be varied with pronouns or synonyms.\\n- Minor grammatical errors: “a growing startup ecosystem” should be “a growing startup ecosystem,”; “AI for All” is sometimes capitalized inconsistently.\\n- Punctuation: The em‑dash in the opening sentence should be a long dash (—) consistently.\\n- The essay occasionally uses vague terms such as “unprecedented challenges” without specifying them early on.\\n- More precise citations or references would strengthen the arguments.\\n\\nOverall, the language quality is high, but tightening the prose and addressing the minor stylistic issues would raise it to a near‑flawless level.\\n'"
      ]
     },
     "execution_count": 57,
     "metadata": {},
     "output_type": "execute_result"
    }
   ],
   "source": [
    "prompt = f'Evaluate the language quality of the following essay and provide a feedback and assign a score out of 10 \\n {essay}'\n",
    "structured_model.invoke(prompt).feedback"
   ]
  },
  {
   "cell_type": "code",
   "execution_count": 65,
   "id": "ee6ec134",
   "metadata": {},
   "outputs": [],
   "source": [
    "class CSSState(TypedDict):\n",
    "    essay: str\n",
    "    language_feedback: str\n",
    "    analysis_feedback: str\n",
    "    clarity_feedback: str\n",
    "    over_all_score: str\n",
    "    individual_scores: Annotated[list[int], operator.add]\n",
    "    avg_score: float"
   ]
  },
  {
   "cell_type": "code",
   "execution_count": 66,
   "id": "2fcbdac1",
   "metadata": {},
   "outputs": [],
   "source": [
    "def evaluate_language(state: CSSState):\n",
    "    prompt = f'Evaluate the language quality of the following essay and provide a feedback and assign a score out of 10 \\n {state[\"essay\"]}'\n",
    "    output = structured_model.invoke(prompt)\n",
    "\n",
    "    return {'language_feedback': output.feedback, 'individual_scores': [output.score]}"
   ]
  },
  {
   "cell_type": "code",
   "execution_count": 67,
   "id": "306b3388",
   "metadata": {},
   "outputs": [],
   "source": [
    "def evaluate_analysis(state: CSSState):\n",
    "    prompt = f'Evaluate the analytical depth of the following essay and provide a feedback and assign a score out of 10 \\n {state[\"essay\"]}'\n",
    "    output = structured_model.invoke(prompt)\n",
    "\n",
    "    return {'analysis_feedback': output.feedback, 'individual_scores': [output.score]}"
   ]
  },
  {
   "cell_type": "code",
   "execution_count": 68,
   "id": "7c144999",
   "metadata": {},
   "outputs": [],
   "source": [
    "def evaluate_clarity(state: CSSState):\n",
    "    prompt = f'Evaluate the clarity of arguments in the following essay and provide a feedback and assign a score out of 10 \\n {state[\"essay\"]}'\n",
    "    output = structured_model.invoke(prompt)\n",
    "\n",
    "    return {'clarity_feedback': output.feedback, 'individual_scores': [output.score]}"
   ]
  },
  {
   "cell_type": "code",
   "execution_count": 69,
   "id": "96c6560e",
   "metadata": {},
   "outputs": [],
   "source": [
    "def final_evaluation(state: CSSState):\n",
    "\n",
    "    prompt = f'Based on the following feedbacks create a summarized feedback \\n language feedback - {state[\"language_feedback\"]} \\n depth of analysis feedback - {state[\"analysis_feedback\"]} \\n clarity of thought feedback - {state[\"clarity_feedback\"]}'\n",
    "    overall_feedback = model.invoke(prompt).content\n",
    "\n",
    "    avg_score = sum(state['individual_scores'])/len(state['individual_scores'])\n",
    "\n",
    "    return {'overall_feedback': overall_feedback, 'avg_score': avg_score}"
   ]
  },
  {
   "cell_type": "code",
   "execution_count": 70,
   "id": "6ad2177a",
   "metadata": {},
   "outputs": [],
   "source": [
    "graph = StateGraph(CSSState)\n",
    "\n",
    "graph.add_node(\"evaluate_language\", evaluate_language)\n",
    "graph.add_node(\"evaluate_analysis\", evaluate_analysis)\n",
    "graph.add_node(\"evaluate_clarity\", evaluate_clarity)\n",
    "graph.add_node(\"final_evaluation\", final_evaluation)\n",
    "\n",
    "graph.add_edge(START, \"evaluate_language\")\n",
    "graph.add_edge(START, \"evaluate_analysis\")\n",
    "graph.add_edge(START, \"evaluate_clarity\")\n",
    "graph.add_edge(\"evaluate_language\", \"final_evaluation\")\n",
    "graph.add_edge(\"evaluate_analysis\", \"final_evaluation\")\n",
    "graph.add_edge(\"evaluate_clarity\", \"final_evaluation\")\n",
    "graph.add_edge(\"final_evaluation\", END)\n",
    "\n",
    "workflow = graph.compile()\n"
   ]
  },
  {
   "cell_type": "code",
   "execution_count": 71,
   "id": "5e048619",
   "metadata": {},
   "outputs": [
    {
     "data": {
      "text/plain": [
       "{'essay': \"India in the Age of AI\\nAs the world enters a transformative era defined by artificial intelligence (AI), India stands at a critical juncture — one where it can either emerge as a global leader in AI innovation or risk falling behind in the technology race. The age of AI brings with it immense promise as well as unprecedented challenges, and how India navigates this landscape will shape its socio-economic and geopolitical future.\\n\\nIndia's strengths in the AI domain are rooted in its vast pool of skilled engineers, a thriving IT industry, and a growing startup ecosystem. With over 5 million STEM graduates annually and a burgeoning base of AI researchers, India possesses the intellectual capital required to build cutting-edge AI systems. Institutions like IITs, IIITs, and IISc have begun fostering AI research, while private players such as TCS, Infosys, and Wipro are integrating AI into their global services. In 2020, the government launched the National AI Strategy (AI for All) with a focus on inclusive growth, aiming to leverage AI in healthcare, agriculture, education, and smart mobility.\\n\\nOne of the most promising applications of AI in India lies in agriculture, where predictive analytics can guide farmers on optimal sowing times, weather forecasts, and pest control. In healthcare, AI-powered diagnostics can help address India’s doctor-patient ratio crisis, particularly in rural areas. Educational platforms are increasingly using AI to personalize learning paths, while smart governance tools are helping improve public service delivery and fraud detection.\\n\\nHowever, the path to AI-led growth is riddled with challenges. Chief among them is the digital divide. While metropolitan cities may embrace AI-driven solutions, rural India continues to struggle with basic internet access and digital literacy. The risk of job displacement due to automation also looms large, especially for low-skilled workers. Without effective skilling and re-skilling programs, AI could exacerbate existing socio-economic inequalities.\\n\\nAnother pressing concern is data privacy and ethics. As AI systems rely heavily on vast datasets, ensuring that personal data is used transparently and responsibly becomes vital. India is still shaping its data protection laws, and in the absence of a strong regulatory framework, AI systems may risk misuse or bias.\\n\\nTo harness AI responsibly, India must adopt a multi-stakeholder approach involving the government, academia, industry, and civil society. Policies should promote open datasets, encourage responsible innovation, and ensure ethical AI practices. There is also a need for international collaboration, particularly with countries leading in AI research, to gain strategic advantage and ensure interoperability in global systems.\\n\\nIndia’s demographic dividend, when paired with responsible AI adoption, can unlock massive economic growth, improve governance, and uplift marginalized communities. But this vision will only materialize if AI is seen not merely as a tool for automation, but as an enabler of human-centered development.\\n\\nIn conclusion, India in the age of AI is a story in the making — one of opportunity, responsibility, and transformation. The decisions we make today will not just determine India’s AI trajectory, but also its future as an inclusive, equitable, and innovation-driven society.\",\n",
       " 'language_feedback': 'The essay demonstrates a clear and coherent structure, with an engaging opening that frames India’s position in the global AI landscape. The language is generally formal and appropriate for an analytical piece, and the author effectively balances technical detail with broader socio‑economic implications. However, there are areas for improvement:\\n\\n1. **Consistency and Precision**: The essay sometimes oscillates between formal and conversational tone (e.g., “the risk of job displacement due to automation also looms large” versus “the decisions we make today will not just determine India’s AI trajectory”). Maintaining a consistently formal register would strengthen the overall voice.\\n2. **Grammar and Syntax**: Minor issues such as missing articles (“a growing startup ecosystem” is fine, but “institutions like IITs, IIITs, and IISc have begun fostering AI research” could benefit from a clearer subject‑verb agreement). Some sentences are long and could be broken up for readability (e.g., the paragraph discussing data privacy and ethics).\\n3. **Clarity and Conciseness**: A few phrases are slightly redundant or verbose (“the risk of job displacement due to automation also looms large” could be shortened to “automation poses a risk of job displacement”).\\n4. **Use of Data**: While the essay cites impressive figures (5\\u202fmillion STEM graduates, 2020 National AI Strategy), it could strengthen arguments by referencing specific outcomes or case studies to illustrate the impact of AI in agriculture or healthcare.\\n5. **Transitions**: The transitions between sections are generally smooth, but the shift from challenges to solutions could be more explicitly signaled with a bridging sentence.\\n\\nOverall, the essay is well‑structured and insightful, but tightening the prose and ensuring consistent formality would elevate its quality.\\n',\n",
       " 'analysis_feedback': 'The essay offers a solid overview of India’s position in the AI landscape, highlighting key strengths such as a large STEM talent pool, growing startup ecosystem, and governmental initiatives. It also identifies significant challenges—digital divide, job displacement, data privacy, and regulatory gaps—while proposing a multi‑stakeholder policy framework. However, the analysis remains largely descriptive; it lacks deeper critical engagement with underlying structural issues, comparative benchmarks with other emerging economies, or nuanced discussion of how specific AI technologies could reshape particular sectors. The argument would benefit from more concrete evidence, case studies, and a clearer articulation of causal links between AI adoption and socio‑economic outcomes. Overall, the piece demonstrates a good grasp of the topic but could be enriched with more analytical depth and empirical grounding.\\n\\nScore: 7/10',\n",
       " 'clarity_feedback': 'The essay presents a clear, structured argument about India’s position in the AI era. It opens with a strong thesis, then systematically discusses strengths (talent pool, industry, government strategy), opportunities (agriculture, healthcare, education, governance), and challenges (digital divide, job displacement, data privacy). Each point is supported with specific examples and logical progression. However, the essay could improve clarity by tightening transitions between sections and providing more concrete data or case studies to back claims. Overall, the arguments are coherent and well‑organized, but some sections feel slightly generic. The concluding paragraph effectively summarizes the stakes but could more explicitly tie back to earlier points. The clarity score reflects a solid but not exceptional argument structure.',\n",
       " 'individual_scores': [7, 8, 8],\n",
       " 'avg_score': 7.666666666666667}"
      ]
     },
     "execution_count": 71,
     "metadata": {},
     "output_type": "execute_result"
    }
   ],
   "source": [
    "intial_state = {\n",
    "    'essay': essay\n",
    "}\n",
    "\n",
    "workflow.invoke(intial_state)"
   ]
  }
 ],
 "metadata": {
  "kernelspec": {
   "display_name": "venv",
   "language": "python",
   "name": "python3"
  },
  "language_info": {
   "codemirror_mode": {
    "name": "ipython",
    "version": 3
   },
   "file_extension": ".py",
   "mimetype": "text/x-python",
   "name": "python",
   "nbconvert_exporter": "python",
   "pygments_lexer": "ipython3",
   "version": "3.12.10"
  }
 },
 "nbformat": 4,
 "nbformat_minor": 5
}
